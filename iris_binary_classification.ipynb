{
 "cells": [
  {
   "cell_type": "markdown",
   "id": "d61270dd",
   "metadata": {},
   "source": [
    "# Binary classification of the Iris dataset\n",
    "\n",
    "🔗 [Iris dataset](https://archive.ics.uci.edu/ml/datasets/iris)\n",
    "\n",
    "## Disclaimer\n",
    "\n",
    "The Iris dataset is a multiclass classification dataset, but our model only does binary classification. Due to this, a modification in the original dataset was made, in order to predict if the flower is an Iris-setosa or not."
   ]
  },
  {
   "cell_type": "code",
   "execution_count": 1,
   "id": "8b9a2c2a",
   "metadata": {},
   "outputs": [],
   "source": [
    "import pandas as pd\n",
    "import numpy as np\n",
    "from src.main import NeuralNetwork\n",
    "from src.layers import Dense, Sigmoid\n",
    "from sklearn.model_selection import train_test_split"
   ]
  },
  {
   "cell_type": "markdown",
   "id": "bdc44ace",
   "metadata": {},
   "source": [
    "## Manipulating the dataset"
   ]
  },
  {
   "cell_type": "code",
   "execution_count": 2,
   "id": "6ea56ad0",
   "metadata": {},
   "outputs": [],
   "source": [
    "iris = pd.read_csv('data/IRIS.csv')"
   ]
  },
  {
   "cell_type": "code",
   "execution_count": 3,
   "id": "eb4f698c",
   "metadata": {},
   "outputs": [
    {
     "data": {
      "text/html": [
       "<div>\n",
       "<style scoped>\n",
       "    .dataframe tbody tr th:only-of-type {\n",
       "        vertical-align: middle;\n",
       "    }\n",
       "\n",
       "    .dataframe tbody tr th {\n",
       "        vertical-align: top;\n",
       "    }\n",
       "\n",
       "    .dataframe thead th {\n",
       "        text-align: right;\n",
       "    }\n",
       "</style>\n",
       "<table border=\"1\" class=\"dataframe\">\n",
       "  <thead>\n",
       "    <tr style=\"text-align: right;\">\n",
       "      <th></th>\n",
       "      <th>sepal_length</th>\n",
       "      <th>sepal_width</th>\n",
       "      <th>petal_length</th>\n",
       "      <th>petal_width</th>\n",
       "      <th>species</th>\n",
       "    </tr>\n",
       "  </thead>\n",
       "  <tbody>\n",
       "    <tr>\n",
       "      <th>0</th>\n",
       "      <td>5.1</td>\n",
       "      <td>3.5</td>\n",
       "      <td>1.4</td>\n",
       "      <td>0.2</td>\n",
       "      <td>Iris-setosa</td>\n",
       "    </tr>\n",
       "    <tr>\n",
       "      <th>1</th>\n",
       "      <td>4.9</td>\n",
       "      <td>3.0</td>\n",
       "      <td>1.4</td>\n",
       "      <td>0.2</td>\n",
       "      <td>Iris-setosa</td>\n",
       "    </tr>\n",
       "    <tr>\n",
       "      <th>2</th>\n",
       "      <td>4.7</td>\n",
       "      <td>3.2</td>\n",
       "      <td>1.3</td>\n",
       "      <td>0.2</td>\n",
       "      <td>Iris-setosa</td>\n",
       "    </tr>\n",
       "    <tr>\n",
       "      <th>3</th>\n",
       "      <td>4.6</td>\n",
       "      <td>3.1</td>\n",
       "      <td>1.5</td>\n",
       "      <td>0.2</td>\n",
       "      <td>Iris-setosa</td>\n",
       "    </tr>\n",
       "    <tr>\n",
       "      <th>4</th>\n",
       "      <td>5.0</td>\n",
       "      <td>3.6</td>\n",
       "      <td>1.4</td>\n",
       "      <td>0.2</td>\n",
       "      <td>Iris-setosa</td>\n",
       "    </tr>\n",
       "  </tbody>\n",
       "</table>\n",
       "</div>"
      ],
      "text/plain": [
       "   sepal_length  sepal_width  petal_length  petal_width      species\n",
       "0           5.1          3.5           1.4          0.2  Iris-setosa\n",
       "1           4.9          3.0           1.4          0.2  Iris-setosa\n",
       "2           4.7          3.2           1.3          0.2  Iris-setosa\n",
       "3           4.6          3.1           1.5          0.2  Iris-setosa\n",
       "4           5.0          3.6           1.4          0.2  Iris-setosa"
      ]
     },
     "execution_count": 3,
     "metadata": {},
     "output_type": "execute_result"
    }
   ],
   "source": [
    "iris.head()"
   ]
  },
  {
   "cell_type": "code",
   "execution_count": 4,
   "id": "606e7b13",
   "metadata": {},
   "outputs": [
    {
     "data": {
      "text/html": [
       "<div>\n",
       "<style scoped>\n",
       "    .dataframe tbody tr th:only-of-type {\n",
       "        vertical-align: middle;\n",
       "    }\n",
       "\n",
       "    .dataframe tbody tr th {\n",
       "        vertical-align: top;\n",
       "    }\n",
       "\n",
       "    .dataframe thead th {\n",
       "        text-align: right;\n",
       "    }\n",
       "</style>\n",
       "<table border=\"1\" class=\"dataframe\">\n",
       "  <thead>\n",
       "    <tr style=\"text-align: right;\">\n",
       "      <th></th>\n",
       "      <th>sepal_length</th>\n",
       "      <th>sepal_width</th>\n",
       "      <th>petal_length</th>\n",
       "      <th>petal_width</th>\n",
       "    </tr>\n",
       "  </thead>\n",
       "  <tbody>\n",
       "    <tr>\n",
       "      <th>count</th>\n",
       "      <td>150.000000</td>\n",
       "      <td>150.000000</td>\n",
       "      <td>150.000000</td>\n",
       "      <td>150.000000</td>\n",
       "    </tr>\n",
       "    <tr>\n",
       "      <th>mean</th>\n",
       "      <td>5.843333</td>\n",
       "      <td>3.054000</td>\n",
       "      <td>3.758667</td>\n",
       "      <td>1.198667</td>\n",
       "    </tr>\n",
       "    <tr>\n",
       "      <th>std</th>\n",
       "      <td>0.828066</td>\n",
       "      <td>0.433594</td>\n",
       "      <td>1.764420</td>\n",
       "      <td>0.763161</td>\n",
       "    </tr>\n",
       "    <tr>\n",
       "      <th>min</th>\n",
       "      <td>4.300000</td>\n",
       "      <td>2.000000</td>\n",
       "      <td>1.000000</td>\n",
       "      <td>0.100000</td>\n",
       "    </tr>\n",
       "    <tr>\n",
       "      <th>25%</th>\n",
       "      <td>5.100000</td>\n",
       "      <td>2.800000</td>\n",
       "      <td>1.600000</td>\n",
       "      <td>0.300000</td>\n",
       "    </tr>\n",
       "    <tr>\n",
       "      <th>50%</th>\n",
       "      <td>5.800000</td>\n",
       "      <td>3.000000</td>\n",
       "      <td>4.350000</td>\n",
       "      <td>1.300000</td>\n",
       "    </tr>\n",
       "    <tr>\n",
       "      <th>75%</th>\n",
       "      <td>6.400000</td>\n",
       "      <td>3.300000</td>\n",
       "      <td>5.100000</td>\n",
       "      <td>1.800000</td>\n",
       "    </tr>\n",
       "    <tr>\n",
       "      <th>max</th>\n",
       "      <td>7.900000</td>\n",
       "      <td>4.400000</td>\n",
       "      <td>6.900000</td>\n",
       "      <td>2.500000</td>\n",
       "    </tr>\n",
       "  </tbody>\n",
       "</table>\n",
       "</div>"
      ],
      "text/plain": [
       "       sepal_length  sepal_width  petal_length  petal_width\n",
       "count    150.000000   150.000000    150.000000   150.000000\n",
       "mean       5.843333     3.054000      3.758667     1.198667\n",
       "std        0.828066     0.433594      1.764420     0.763161\n",
       "min        4.300000     2.000000      1.000000     0.100000\n",
       "25%        5.100000     2.800000      1.600000     0.300000\n",
       "50%        5.800000     3.000000      4.350000     1.300000\n",
       "75%        6.400000     3.300000      5.100000     1.800000\n",
       "max        7.900000     4.400000      6.900000     2.500000"
      ]
     },
     "execution_count": 4,
     "metadata": {},
     "output_type": "execute_result"
    }
   ],
   "source": [
    "iris.describe()"
   ]
  },
  {
   "cell_type": "code",
   "execution_count": 5,
   "id": "4ff00e77",
   "metadata": {},
   "outputs": [
    {
     "name": "stdout",
     "output_type": "stream",
     "text": [
      "<class 'pandas.core.frame.DataFrame'>\n",
      "RangeIndex: 150 entries, 0 to 149\n",
      "Data columns (total 5 columns):\n",
      " #   Column        Non-Null Count  Dtype  \n",
      "---  ------        --------------  -----  \n",
      " 0   sepal_length  150 non-null    float64\n",
      " 1   sepal_width   150 non-null    float64\n",
      " 2   petal_length  150 non-null    float64\n",
      " 3   petal_width   150 non-null    float64\n",
      " 4   species       150 non-null    object \n",
      "dtypes: float64(4), object(1)\n",
      "memory usage: 6.0+ KB\n"
     ]
    }
   ],
   "source": [
    "iris.info()"
   ]
  },
  {
   "cell_type": "code",
   "execution_count": 6,
   "id": "ce5b4df9",
   "metadata": {},
   "outputs": [],
   "source": [
    "iris['species'] = iris['species'].astype('category')"
   ]
  },
  {
   "cell_type": "code",
   "execution_count": 7,
   "id": "6754e525",
   "metadata": {},
   "outputs": [],
   "source": [
    "X = iris.drop(['species'], axis=1)\n",
    "Y = pd.get_dummies(iris['species'])"
   ]
  },
  {
   "cell_type": "markdown",
   "id": "74fd2e9c",
   "metadata": {},
   "source": [
    "### Extracting the input data and target data\n",
    "\n",
    "In this case y=0 implies that is not an Iris-setosa and y=1 implies that is an Iris-setosa"
   ]
  },
  {
   "cell_type": "code",
   "execution_count": 8,
   "id": "16481224",
   "metadata": {},
   "outputs": [],
   "source": [
    "X_numpy = X.to_numpy()\n",
    "Y_numpy = Y['Iris-setosa'].to_numpy().reshape(-1, 1)"
   ]
  },
  {
   "cell_type": "markdown",
   "id": "8f8bdbc9",
   "metadata": {},
   "source": [
    "###  Splitting in train dataset and test dataset\n",
    "\n",
    "60% for train dataset, 40% for test dataset"
   ]
  },
  {
   "cell_type": "code",
   "execution_count": 9,
   "id": "7b0daa42",
   "metadata": {},
   "outputs": [],
   "source": [
    "x_train, x_test, y_train, y_test = train_test_split(X_numpy, Y_numpy, test_size=0.4)"
   ]
  },
  {
   "cell_type": "code",
   "execution_count": 10,
   "id": "c864f5a6",
   "metadata": {},
   "outputs": [],
   "source": [
    "x_train = x_train.T\n",
    "y_train = y_train.T\n",
    "x_test = x_test.T\n",
    "y_test = y_test.T"
   ]
  },
  {
   "cell_type": "markdown",
   "id": "ec703921",
   "metadata": {},
   "source": [
    "## Creating the neural network\n",
    "\n",
    "We are using one hidden layer with 4 hidden units.\n",
    "\n",
    "Input -> (Linear -> ReLU) ->  (Linear -> Sigmoid) -> Output"
   ]
  },
  {
   "cell_type": "code",
   "execution_count": 11,
   "id": "6040223c",
   "metadata": {},
   "outputs": [],
   "source": [
    "layers = [Dense(4, 4), Sigmoid(4)]\n",
    "model = NeuralNetwork(layers)"
   ]
  },
  {
   "cell_type": "code",
   "execution_count": 27,
   "id": "c8c3c01f",
   "metadata": {},
   "outputs": [
    {
     "name": "stdout",
     "output_type": "stream",
     "text": [
      "Epoch: 0, Cost: 6.7471894057358135\n",
      "\n",
      "Epoch: 10, Cost: 0.08335541763288343\n",
      "\n",
      "Epoch: 20, Cost: 0.061090988810185536\n",
      "\n",
      "Epoch: 30, Cost: 0.048522529307031076\n",
      "\n",
      "Epoch: 40, Cost: 0.04020028989382433\n",
      "\n",
      "Epoch: 50, Cost: 0.03425929013309293\n",
      "\n",
      "Epoch: 60, Cost: 0.029805635700321728\n",
      "\n",
      "Epoch: 70, Cost: 0.02634473552938524\n",
      "\n",
      "Epoch: 80, Cost: 0.02357712238662845\n",
      "\n",
      "Epoch: 90, Cost: 0.02131488371895673\n",
      "\n",
      "Epoch: 99, Cost: 0.01960631569139375\n",
      "\n"
     ]
    }
   ],
   "source": [
    "model.fit(x_train, y_train, epochs=100, learning_rate=0.05, print_step=10)"
   ]
  },
  {
   "cell_type": "code",
   "execution_count": 28,
   "id": "1ac38974",
   "metadata": {},
   "outputs": [
    {
     "data": {
      "text/plain": [
       "1.0"
      ]
     },
     "execution_count": 28,
     "metadata": {},
     "output_type": "execute_result"
    }
   ],
   "source": [
    "model.evaluate(x_test, y_test)"
   ]
  }
 ],
 "metadata": {
  "kernelspec": {
   "display_name": "Python 3",
   "language": "python",
   "name": "python3"
  },
  "language_info": {
   "codemirror_mode": {
    "name": "ipython",
    "version": 3
   },
   "file_extension": ".py",
   "mimetype": "text/x-python",
   "name": "python",
   "nbconvert_exporter": "python",
   "pygments_lexer": "ipython3",
   "version": "3.10.2"
  },
  "vscode": {
   "interpreter": {
    "hash": "95721ba7029919eb9723193aa8f18a0864a5e546a562eaffea1e84b1cebe8d26"
   }
  }
 },
 "nbformat": 4,
 "nbformat_minor": 5
}
